{
 "cells": [
  {
   "cell_type": "code",
   "execution_count": 8,
   "id": "db6d1537",
   "metadata": {},
   "outputs": [
    {
     "data": {
      "application/vnd.jupyter.widget-view+json": {
       "model_id": "0fe677b82bb94767a87b92efe6333149",
       "version_major": 2,
       "version_minor": 0
      },
      "text/plain": [
       "FileUpload(value={}, description='Upload')"
      ]
     },
     "metadata": {},
     "output_type": "display_data"
    }
   ],
   "source": [
    "##!pip install voila\n",
    "##!jupyter serverextension enable --sys-prefix voila \n",
    "\n",
    "#import urllib.request\n",
    "\n",
    "from fastai.vision.all import *\n",
    "from fastai.vision.widgets import *\n",
    "\n",
    "#path = Path(\".\")\n",
    "##learn_inf = load_learner(path/'export.pkl', cpu=True)\n",
    "\n",
    "#MODEL_URL = \"https://drive.google.com/file/d/1ym2KcTz4uFgDgXoPiDnk7Z-RNz-FCvl7\"\n",
    "#urllib.request.urlretrieve(MODEL_URL, \"exort.pkl\")\n",
    "#learn_inf = load_learner(path/\"export.pkl\", cpu=True)\n",
    "\n",
    "\n",
    "\n",
    "btn_upload = widgets.FileUpload()\n",
    "btn_upload \n",
    "#out_pl = widgets.Output()\n",
    "#lbl_pred = widgets.Label()\n",
    "\n",
    "#def on_data_change(change):\n",
    "#    lbl_pred.value = ''\n",
    "#    img = PILImage.create(btn_upload.data[-1])\n",
    "#    out_pl.clear_output()\n",
    "#    with out_pl: display(img.to_thumb(128,128))\n",
    "#    pred,pred_idx,probs = learn_inf.predict(img)\n",
    "#    lbl_pred.value = f'Should be {pred} with probability {probs[pred_idx]:.04f}'\n",
    "    \n",
    "#btn_upload.observe(on_data_change, names=['data'])\n",
    "#display(VBox([widgets.Label('Upload the picture of the Persian food you are curious about!'), btn_upload, out_pl, lbl_pred]))"
   ]
  },
  {
   "cell_type": "code",
   "execution_count": null,
   "id": "8039608b",
   "metadata": {},
   "outputs": [],
   "source": []
  }
 ],
 "metadata": {
  "kernelspec": {
   "display_name": "Python 3 (ipykernel)",
   "language": "python",
   "name": "python3"
  },
  "language_info": {
   "codemirror_mode": {
    "name": "ipython",
    "version": 3
   },
   "file_extension": ".py",
   "mimetype": "text/x-python",
   "name": "python",
   "nbconvert_exporter": "python",
   "pygments_lexer": "ipython3",
   "version": "3.7.11"
  }
 },
 "nbformat": 4,
 "nbformat_minor": 5
}
